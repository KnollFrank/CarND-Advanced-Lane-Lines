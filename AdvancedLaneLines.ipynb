{
 "cells": [
  {
   "cell_type": "markdown",
   "metadata": {},
   "source": [
    "## Advanced Lane Finding Project\n",
    "\n",
    "The goals / steps of this project are the following:\n",
    "\n",
    "* Compute the camera calibration matrix and distortion coefficients given a set of chessboard images.\n",
    "* Apply a distortion correction to raw images.\n",
    "* Use color transforms, gradients, etc., to create a thresholded binary image.\n",
    "* Apply a perspective transform to rectify binary image (\"birds-eye view\").\n",
    "* Detect lane pixels and fit to find the lane boundary.\n",
    "* Determine the curvature of the lane and vehicle position with respect to center.\n",
    "* Warp the detected lane boundaries back onto the original image.\n",
    "* Output visual display of the lane boundaries and numerical estimation of lane curvature and vehicle position."
   ]
  },
  {
   "cell_type": "code",
   "execution_count": null,
   "metadata": {
    "scrolled": false
   },
   "outputs": [],
   "source": [
    "def get_width(image):\n",
    "    return image.shape[1]\n",
    "\n",
    "def get_height(image):\n",
    "    return image.shape[0]\n",
    "\n",
    "def get_imageSize_for_cv2(image):\n",
    "    return (get_width(image), get_height(image))\n",
    "\n",
    "class Pix2Meter:\n",
    "    def __init__(self, ym_per_pix, xm_per_pix):\n",
    "        # meters per pixel in y dimension\n",
    "        self.ym_per_pix = ym_per_pix\n",
    "        # meters per pixel in x dimension\n",
    "        self.xm_per_pix = xm_per_pix\n",
    "    \n",
    "    def y_pix_2_meter(self, pix):\n",
    "        return pix * self.ym_per_pix\n",
    "\n",
    "    def x_pix_2_meter(self, pix):\n",
    "        return pix * self.xm_per_pix\n",
    "\n",
    "def create_default_pix2Meter():\n",
    "    return Pix2Meter(ym_per_pix = 30/720, xm_per_pix = 3.7/700)\n",
    "\n",
    "def savefig(image):\n",
    "    plt.savefig(image, bbox_inches = 'tight')"
   ]
  },
  {
   "cell_type": "markdown",
   "metadata": {},
   "source": [
    "## Compute the camera calibration matrix and distortion coefficients given a set of chessboard images"
   ]
  },
  {
   "cell_type": "code",
   "execution_count": null,
   "metadata": {
    "scrolled": false
   },
   "outputs": [],
   "source": [
    "import numpy as np\n",
    "import cv2\n",
    "import glob\n",
    "import matplotlib.pyplot as plt\n",
    "%matplotlib qt\n",
    "\n",
    "def get_objpoints_imgpoints(draw):\n",
    "    patternSize = (9, 6)\n",
    "    # prepare object points, like (0,0,0), (1,0,0), (2,0,0) ....,(6,5,0)\n",
    "    objp = np.zeros((np.prod(patternSize), 3), np.float32)\n",
    "    objp[:,:2] = np.mgrid[0:9,0:6].T.reshape(-1,2)\n",
    "\n",
    "    # Arrays to store object points and image points from all the images.\n",
    "    objpoints = [] # 3d points in real world space\n",
    "    imgpoints = [] # 2d points in image plane.\n",
    "\n",
    "    # Make a list of calibration images\n",
    "    images = glob.glob('camera_cal/calibration*.jpg')\n",
    "\n",
    "    # Step through the list and search for chessboard corners\n",
    "    for fname in images:\n",
    "        img = cv2.imread(fname)\n",
    "        gray = cv2.cvtColor(img, cv2.COLOR_BGR2GRAY)\n",
    "\n",
    "        # Find the chessboard corners\n",
    "        ret, corners = cv2.findChessboardCorners(gray, patternSize, None)\n",
    "\n",
    "        # If found, add object points, image points\n",
    "        if ret == True:\n",
    "            objpoints.append(objp)\n",
    "            imgpoints.append(corners)\n",
    "\n",
    "            # Draw and display the corners\n",
    "            if draw:\n",
    "                img = cv2.drawChessboardCorners(img, patternSize, corners, ret)\n",
    "                cv2.imshow('img', img)\n",
    "                cv2.waitKey(500)\n",
    "\n",
    "    cv2.destroyAllWindows()\n",
    "    return objpoints, imgpoints"
   ]
  },
  {
   "cell_type": "code",
   "execution_count": null,
   "metadata": {
    "scrolled": false
   },
   "outputs": [],
   "source": [
    "import pickle\n",
    "import os\n",
    "\n",
    "def calibrateCamera():\n",
    "    objpoints, imgpoints = get_objpoints_imgpoints(draw = False)\n",
    "    img = cv2.imread('camera_cal/calibration1.jpg')\n",
    "    # Do camera calibration given object points and image points\n",
    "    _, cameraMatrix, distCoeffs, _, _ = cv2.calibrateCamera(objpoints,\n",
    "                                                            imgpoints,\n",
    "                                                            get_imageSize_for_cv2(img),\n",
    "                                                            None,\n",
    "                                                            None)\n",
    "    calibration_data = {\"cameraMatrix\": cameraMatrix, \"distCoeffs\": distCoeffs}\n",
    "    return calibration_data\n",
    "\n",
    "def get_calibrateCamera_pickle_file():\n",
    "    return 'camera_cal/wide_dist_pickle.p'\n",
    "\n",
    "# Save the camera calibration result for later use (we won't worry about rvecs / tvecs)\n",
    "def save_calibration_data(calibration_data):\n",
    "    pickle.dump(calibration_data, open(get_calibrateCamera_pickle_file(), \"wb\"))\n",
    "\n",
    "# Read in the saved camera matrix and distortion coefficients\n",
    "def load_calibration_data():\n",
    "    calibration_data = pickle.load(open(get_calibrateCamera_pickle_file(), \"rb\"))\n",
    "    return calibration_data\n",
    "\n",
    "def get_calibration_data():\n",
    "    if not os.path.isfile(get_calibrateCamera_pickle_file()):\n",
    "        save_calibration_data(calibrateCamera())\n",
    "    return load_calibration_data()"
   ]
  },
  {
   "cell_type": "markdown",
   "metadata": {},
   "source": [
    "## Apply a distortion correction to raw images\n",
    "\n",
    "adapted from https://github.com/udacity/CarND-Camera-Calibration/blob/master/camera_calibration.ipynb"
   ]
  },
  {
   "cell_type": "code",
   "execution_count": null,
   "metadata": {
    "scrolled": false
   },
   "outputs": [],
   "source": [
    "def undistort(image, calibration_data):\n",
    "    return cv2.undistort(image,\n",
    "                         calibration_data['cameraMatrix'],\n",
    "                         calibration_data['distCoeffs'],\n",
    "                         None,\n",
    "                         calibration_data['cameraMatrix'])"
   ]
  },
  {
   "cell_type": "code",
   "execution_count": null,
   "metadata": {
    "scrolled": false
   },
   "outputs": [],
   "source": [
    "%matplotlib inline\n",
    "\n",
    "def visualize_undistortion(original_image, undistorted_image):\n",
    "    f, (ax1, ax2) = plt.subplots(1, 2, figsize=(20, 10))\n",
    "    ax1.imshow(original_image)\n",
    "    ax1.set_title('Original Image', fontsize=30)\n",
    "    ax2.imshow(undistorted_image)\n",
    "    ax2.set_title('Undistorted Image', fontsize=30)"
   ]
  },
  {
   "cell_type": "code",
   "execution_count": null,
   "metadata": {
    "scrolled": false
   },
   "outputs": [],
   "source": [
    "original_image = cv2.imread('camera_cal/calibration1.jpg')\n",
    "undistorted_image = undistort(original_image, get_calibration_data())\n",
    "# cv2.imwrite('output_images/calibration1_undistorted.png', dst)\n",
    "\n",
    "visualize_undistortion(original_image, undistorted_image)\n",
    "savefig('output_images/calibration1_undistorted.png')"
   ]
  },
  {
   "cell_type": "code",
   "execution_count": null,
   "metadata": {
    "scrolled": false
   },
   "outputs": [],
   "source": [
    "original_image = cv2.cvtColor(cv2.imread('test_images/test1.jpg'), cv2.COLOR_BGR2RGB)\n",
    "undistorted_image = undistort(original_image, get_calibration_data())\n",
    "\n",
    "visualize_undistortion(original_image, undistorted_image)\n",
    "savefig('output_images/test1_undistorted.png')"
   ]
  },
  {
   "cell_type": "markdown",
   "metadata": {},
   "source": [
    "## Use color transforms, gradients, etc., to create a thresholded binary image"
   ]
  },
  {
   "cell_type": "code",
   "execution_count": null,
   "metadata": {},
   "outputs": [],
   "source": [
    "import numpy as np\n",
    "import cv2\n",
    "import matplotlib.pyplot as plt\n",
    "import matplotlib.image as mpimg\n",
    "\n",
    "def apply_thresholds(image, thresholds):\n",
    "    result = np.zeros_like(image)\n",
    "    result[(image >= thresholds[0]) & (image <= thresholds[1])] = 1\n",
    "    return result\n",
    "\n",
    "    \n",
    "def detect_edges_using_x_derivative(image, sx_thresh):\n",
    "    # Sobel x\n",
    "    sobelx = cv2.Sobel(image, cv2.CV_64F, 1, 0) # Take the derivative in x\n",
    "    abs_sobelx = np.absolute(sobelx) # Absolute x derivative to accentuate lines away from horizontal\n",
    "    scaled_sobel = np.uint8(255*abs_sobelx/np.max(abs_sobelx))\n",
    "\n",
    "    # Threshold x gradient\n",
    "    return apply_thresholds(scaled_sobel, sx_thresh)\n",
    "\n",
    "\n",
    "def combine_with_or(binary_img1, binary_img2):\n",
    "    combined_binary = np.zeros_like(binary_img1)\n",
    "    combined_binary[(binary_img1 == 1) | (binary_img2 == 1)] = 1\n",
    "    return combined_binary\n",
    "\n",
    "\n",
    "def create_color_image(green_image, blue_image):\n",
    "    red_image = np.zeros_like(green_image)\n",
    "    return np.dstack((red_image, green_image, blue_image)) * 255\n",
    "    \n",
    "\n",
    "def get_l_channel_and_s_channel(image):\n",
    "    # Convert to HLS color space and separate the S and L channels\n",
    "    hls = cv2.cvtColor(np.copy(image), cv2.COLOR_RGB2HLS)\n",
    "    l_channel = hls[:,:,1]\n",
    "    s_channel = hls[:,:,2]\n",
    "    return l_channel, s_channel\n",
    "    \n",
    "\n",
    "def create_binary_images(image, s_channel_thresholds, x_derivative_thresholds):        \n",
    "    l_channel, s_channel = get_l_channel_and_s_channel(image)    \n",
    "    x_derivative_binary = detect_edges_using_x_derivative(l_channel, x_derivative_thresholds)\n",
    "    s_channel_binary = apply_thresholds(s_channel, s_channel_thresholds)\n",
    "    \n",
    "    return (create_color_image(green_image = x_derivative_binary, blue_image = s_channel_binary),\n",
    "            combine_with_or(x_derivative_binary, s_channel_binary))"
   ]
  },
  {
   "cell_type": "code",
   "execution_count": null,
   "metadata": {
    "scrolled": false
   },
   "outputs": [],
   "source": [
    "image = mpimg.imread('test_images/test2.jpg')\n",
    "color_binary, combined_binary = create_binary_images(image,\n",
    "                                                     s_channel_thresholds = (170, 255),\n",
    "                                                     x_derivative_thresholds = (60, 100))\n",
    "\n",
    "# Plot the result\n",
    "f, (ax1, ax2, ax3) = plt.subplots(3, 1, figsize=(48, 18))\n",
    "f.tight_layout()\n",
    "\n",
    "ax1.imshow(image)\n",
    "ax1.set_title('Original Image')\n",
    "\n",
    "ax2.imshow(color_binary)\n",
    "ax2.set_title('color_binary')\n",
    "\n",
    "ax3.imshow(combined_binary, cmap = 'gray')\n",
    "ax3.set_title('combined_binary')\n",
    "\n",
    "savefig('output_images/test1_binary.png')"
   ]
  },
  {
   "cell_type": "code",
   "execution_count": null,
   "metadata": {
    "scrolled": false
   },
   "outputs": [],
   "source": [
    "image = mpimg.imread('test_images/tree_with_shadow.jpg')\n",
    "color_binary, combined_binary = create_binary_images(image,\n",
    "                                                     s_channel_thresholds = (170, 255),\n",
    "                                                     x_derivative_thresholds = (60, 100))\n",
    "\n",
    "# Plot the result\n",
    "f, (ax1, ax2, ax3) = plt.subplots(3, 1, figsize=(48, 18))\n",
    "f.tight_layout()\n",
    "\n",
    "ax1.imshow(image)\n",
    "ax1.set_title('Original Image')\n",
    "\n",
    "ax2.imshow(color_binary)\n",
    "ax2.set_title('color_binary')\n",
    "\n",
    "ax3.imshow(combined_binary, cmap = 'gray')\n",
    "ax3.set_title('combined_binary')"
   ]
  },
  {
   "cell_type": "markdown",
   "metadata": {},
   "source": [
    "## Apply a perspective transform to rectify binary image (\"birds-eye view\")"
   ]
  },
  {
   "cell_type": "code",
   "execution_count": null,
   "metadata": {
    "scrolled": false
   },
   "outputs": [],
   "source": [
    "def get_img_src_dst():\n",
    "    img = mpimg.imread('test_images/straight_lines2.jpg')\n",
    "    src = np.float32(\n",
    "        [\n",
    "            (get_width(img)/2 - 60, get_height(img)/2 + 100),\n",
    "            (get_width(img)/6 + 5, get_height(img)),\n",
    "            (get_width(img)*5/6 + 45, get_height(img)),\n",
    "            (get_width(img)/2 + 65, get_height(img)/2 + 100)\n",
    "        ])\n",
    "    dst = np.float32(\n",
    "        [\n",
    "            (get_width(img)/4, 0),\n",
    "            (get_width(img)/4, get_height(img)),\n",
    "            (get_width(img)*3/4, get_height(img)),\n",
    "            (get_width(img)*3/4, 0)\n",
    "        ])\n",
    "    return img, src, dst\n",
    "    \n",
    "# TODO: cache the result of this function!!! It is always the same result\n",
    "def getPerspectiveTransform():\n",
    "    _, src, dst = get_img_src_dst()\n",
    "    return cv2.getPerspectiveTransform(src, dst)\n",
    "\n",
    "def warpPerspective(image):\n",
    "    return cv2.warpPerspective(src = image,\n",
    "                               M = getPerspectiveTransform(),\n",
    "                               dsize = get_imageSize_for_cv2(image),\n",
    "                               flags = cv2.INTER_NEAREST)"
   ]
  },
  {
   "cell_type": "code",
   "execution_count": null,
   "metadata": {
    "scrolled": false
   },
   "outputs": [],
   "source": [
    "import pickle\n",
    "import cv2\n",
    "import numpy as np\n",
    "import matplotlib.pyplot as plt\n",
    "import matplotlib.image as mpimg\n",
    "\n",
    "# Read in an image\n",
    "img, src, dst = get_img_src_dst()\n",
    "print(\"src:\\n\", src)\n",
    "print(\"dst:\\n\", dst)\n",
    "\n",
    "undist = undistort(img, get_calibration_data())\n",
    "\n",
    "def polylines(pts, image):\n",
    "    cv2.polylines(image, [pts.astype(int).reshape((-1, 1, 2))], True, (255, 0, 0), 6)\n",
    "\n",
    "undist_with_source_points = np.copy(undist)\n",
    "polylines(src, undist_with_source_points)\n",
    "\n",
    "warped = warpPerspective(undist)\n",
    "polylines(dst, warped)\n",
    "\n",
    "f, (ax1, ax2) = plt.subplots(1, 2, figsize = (24, 9))\n",
    "f.tight_layout()\n",
    "ax1.imshow(undist_with_source_points)\n",
    "ax1.set_title('Undistorted image with source points drawn', fontsize = 25)\n",
    "ax2.imshow(warped)\n",
    "ax2.set_title('Warped result with destination points drawn', fontsize = 25)\n",
    "plt.subplots_adjust(left = 0., right = 1, top = 0.9, bottom = 0.)\n",
    "\n",
    "savefig('output_images/test2_warped_straight_lines.png')"
   ]
  },
  {
   "cell_type": "markdown",
   "metadata": {},
   "source": [
    "## Detect lane pixels and fit to find the lane boundary"
   ]
  },
  {
   "cell_type": "code",
   "execution_count": null,
   "metadata": {
    "scrolled": false
   },
   "outputs": [],
   "source": [
    "import numpy as np\n",
    "import matplotlib.image as mpimg\n",
    "import matplotlib.pyplot as plt\n",
    "import cv2\n",
    "\n",
    "def find_lane_pixels(binary_warped):\n",
    "    # Take a histogram of the bottom half of the image\n",
    "    histogram = np.sum(binary_warped[get_height(binary_warped)//2:,:], axis = 0)\n",
    "    # Create an output image to draw on and visualize the result\n",
    "    out_img = np.dstack((binary_warped, binary_warped, binary_warped))\n",
    "    # Find the peak of the left and right halves of the histogram\n",
    "    # These will be the starting point for the left and right lines\n",
    "    midpoint = np.int(histogram.shape[0]//2)\n",
    "    leftx_base = np.argmax(histogram[:midpoint])\n",
    "    rightx_base = np.argmax(histogram[midpoint:]) + midpoint\n",
    "\n",
    "    # HYPERPARAMETERS\n",
    "    # Choose the number of sliding windows\n",
    "    nwindows = 9\n",
    "    # Set the width of the windows +/- margin\n",
    "    margin = 100\n",
    "    # Set minimum number of pixels found to recenter window\n",
    "    minpix = 50\n",
    "\n",
    "    # Set height of windows - based on nwindows above and image shape\n",
    "    window_height = np.int(get_height(binary_warped)//nwindows)\n",
    "    # Identify the x and y positions of all nonzero pixels in the image\n",
    "    nonzero = binary_warped.nonzero()\n",
    "    nonzeroy = np.array(nonzero[0])\n",
    "    nonzerox = np.array(nonzero[1])\n",
    "    # Current positions to be updated later for each window in nwindows\n",
    "    leftx_current = leftx_base\n",
    "    rightx_current = rightx_base\n",
    "\n",
    "    # Create empty lists to receive left and right lane pixel indices\n",
    "    left_lane_inds = []\n",
    "    right_lane_inds = []\n",
    "\n",
    "    # Step through the windows one by one\n",
    "    for window in range(nwindows):\n",
    "        # Identify window boundaries in x and y (and right and left)\n",
    "        win_y_low = get_height(binary_warped) - (window+1)*window_height\n",
    "        win_y_high = get_height(binary_warped) - window*window_height\n",
    "        win_xleft_low = leftx_current - margin\n",
    "        win_xleft_high = leftx_current + margin\n",
    "        win_xright_low = rightx_current - margin\n",
    "        win_xright_high = rightx_current + margin\n",
    "        \n",
    "        # Draw the windows on the visualization image\n",
    "        cv2.rectangle(out_img,\n",
    "                      (win_xleft_low, win_y_low),\n",
    "                      (win_xleft_high, win_y_high),\n",
    "                      (0, 255, 0),\n",
    "                      2) \n",
    "        cv2.rectangle(out_img,\n",
    "                      (win_xright_low, win_y_low),\n",
    "                      (win_xright_high, win_y_high),\n",
    "                      (0, 255, 0),\n",
    "                      2) \n",
    "        \n",
    "        # Identify the nonzero pixels in x and y within the window\n",
    "        good_left_inds = ((nonzeroy >= win_y_low) &\n",
    "                          (nonzeroy < win_y_high) & \n",
    "                          (nonzerox >= win_xleft_low) &\n",
    "                          (nonzerox < win_xleft_high)).nonzero()[0]\n",
    "        good_right_inds = ((nonzeroy >= win_y_low) &\n",
    "                           (nonzeroy < win_y_high) & \n",
    "                           (nonzerox >= win_xright_low) &\n",
    "                           (nonzerox < win_xright_high)).nonzero()[0]\n",
    "        \n",
    "        # Append these indices to the lists\n",
    "        left_lane_inds.append(good_left_inds)\n",
    "        right_lane_inds.append(good_right_inds)\n",
    "        \n",
    "        # If you found > minpix pixels, recenter next window on their mean position\n",
    "        if len(good_left_inds) > minpix:\n",
    "            leftx_current = np.int(np.mean(nonzerox[good_left_inds]))\n",
    "        if len(good_right_inds) > minpix:        \n",
    "            rightx_current = np.int(np.mean(nonzerox[good_right_inds]))\n",
    "\n",
    "    # Concatenate the arrays of indices (previously was a list of lists of pixels)\n",
    "    left_lane_inds = np.concatenate(left_lane_inds)\n",
    "    right_lane_inds = np.concatenate(right_lane_inds)\n",
    "\n",
    "    # Extract left and right line pixel positions\n",
    "    leftx = nonzerox[left_lane_inds]\n",
    "    lefty = nonzeroy[left_lane_inds] \n",
    "    rightx = nonzerox[right_lane_inds]\n",
    "    righty = nonzeroy[right_lane_inds]\n",
    "\n",
    "    return leftx, lefty, rightx, righty, out_img\n",
    "\n",
    "\n",
    "def polyfit_line(y, x, pix2Meter):\n",
    "    coeffs = np.polyfit(pix2Meter.y_pix_2_meter(y), pix2Meter.x_pix_2_meter(x), 2) if len(y) != 0 else [0, 0, 0]\n",
    "    return np.poly1d(coeffs)\n",
    "\n",
    "\n",
    "def polyfit_left_line_right_line(lane_pixels, height, pix2Meter):\n",
    "    leftx, lefty, rightx, righty, _ = lane_pixels\n",
    "    left_line = polyfit_line(lefty, leftx, pix2Meter)\n",
    "    right_line = polyfit_line(righty, rightx, pix2Meter)\n",
    "    y = pix2Meter.y_pix_2_meter(np.linspace(0, height-1, height))\n",
    "    return left_line, right_line, y\n",
    "\n",
    "\n",
    "def draw_line(x, y, image):\n",
    "    pts = np.dstack((x.astype(int), y.astype(int)))[0]\n",
    "    pts = pts.reshape((-1, 1, 2))\n",
    "    cv2.polylines(image, [pts], False, (255, 255, 0), 3)\n",
    "\n",
    "\n",
    "def fit_polynomial(lane_pixels, get_polyfitted_left_line_right_line_in_pixel):\n",
    "    leftx, lefty, rightx, righty, out_img = lane_pixels\n",
    "    left_line, right_line, y = get_polyfitted_left_line_right_line_in_pixel()\n",
    "\n",
    "    ## Visualization ##\n",
    "    # Colors in the left and right lane regions\n",
    "    out_img[lefty, leftx] = [255, 0, 0]\n",
    "    out_img[righty, rightx] = [0, 0, 255]\n",
    "    # Plots the left and right polynomials on the lane lines\n",
    "    draw_line(left_line(y), y, out_img)\n",
    "    draw_line(right_line(y), y, out_img)\n",
    "    return out_img, left_line(y), right_line(y), y"
   ]
  },
  {
   "cell_type": "markdown",
   "metadata": {},
   "source": [
    "## Determine the curvature of the lane and vehicle position with respect to center"
   ]
  },
  {
   "cell_type": "code",
   "execution_count": null,
   "metadata": {
    "scrolled": false
   },
   "outputs": [],
   "source": [
    "def R_curve(line, y):\n",
    "    return ((1 + (2*line.coef[0]*y + line.coef[1])**2)**1.5) / np.absolute(2*line.coef[0])\n",
    "\n",
    "def measure_curvature_real(get_polyfitted_left_line_right_line_in_meter):\n",
    "    '''\n",
    "    Calculates the curvature of polynomial functions in meters.\n",
    "    '''\n",
    "    left_line, right_line, y = get_polyfitted_left_line_right_line_in_meter()\n",
    "\n",
    "    # Define y-value where we want radius of curvature\n",
    "    # We'll choose the maximum y-value, corresponding to the bottom of the image\n",
    "    y_eval = np.max(y)\n",
    "    \n",
    "    # Calculation of R_curve (radius of curvature)\n",
    "    return R_curve(left_line, y_eval), R_curve(right_line, y_eval)\n",
    "\n",
    "def get_radius_of_curvature(get_polyfitted_left_line_right_line_in_meter):\n",
    "    left_curverad, right_curverad = measure_curvature_real(get_polyfitted_left_line_right_line_in_meter)\n",
    "    return left_curverad, right_curverad, (left_curverad + right_curverad)/2"
   ]
  },
  {
   "cell_type": "code",
   "execution_count": null,
   "metadata": {
    "scrolled": false
   },
   "outputs": [],
   "source": [
    "def get_vehicle_position(image, get_polyfitted_left_line_right_line_in_meter):\n",
    "    left_line, right_line, y = get_polyfitted_left_line_right_line_in_meter()\n",
    "\n",
    "    def get_midpoint_of_lane():\n",
    "        y_eval = np.max(y)\n",
    "        return (left_line(y_eval) + right_line(y_eval))/2\n",
    "\n",
    "    def get_center_of_car():\n",
    "        return create_default_pix2Meter().x_pix_2_meter(get_width(image)/2)\n",
    "\n",
    "    return get_center_of_car() - get_midpoint_of_lane()"
   ]
  },
  {
   "cell_type": "markdown",
   "metadata": {},
   "source": [
    "## Warp the detected lane boundaries back onto the original image"
   ]
  },
  {
   "cell_type": "code",
   "execution_count": null,
   "metadata": {
    "scrolled": false
   },
   "outputs": [],
   "source": [
    "# Create an image to draw the lines on\n",
    "def project_lane_area_onto_undistorted_image(warped, undist, Minv, lane_pixels, get_polyfitted_left_line_right_line_in_pixel):\n",
    "    out_img, left_fitx, right_fitx, ploty = fit_polynomial(lane_pixels, get_polyfitted_left_line_right_line_in_pixel)\n",
    "\n",
    "    warp_zero = np.zeros_like(warped).astype(np.uint8)\n",
    "    color_warp = np.dstack((warp_zero, warp_zero, warp_zero))\n",
    "\n",
    "    # Recast the x and y points into usable format for cv2.fillPoly()\n",
    "    pts_left = np.array([np.transpose(np.vstack([left_fitx, ploty]))])\n",
    "    pts_right = np.array([np.flipud(np.transpose(np.vstack([right_fitx, ploty])))])\n",
    "    pts = np.hstack((pts_left, pts_right))\n",
    "\n",
    "    # Draw the lane onto the warped blank image\n",
    "    cv2.fillPoly(color_warp, np.int_([pts]), (0, 255, 0))\n",
    "\n",
    "    # Warp the blank back to original image space using inverse perspective matrix (Minv)\n",
    "    newwarp = cv2.warpPerspective(color_warp, Minv, get_imageSize_for_cv2(image))\n",
    "    # Combine the result with the original image\n",
    "    result = cv2.addWeighted(undist, 1, newwarp, 0.3, 0)\n",
    "    return result, out_img"
   ]
  },
  {
   "cell_type": "markdown",
   "metadata": {},
   "source": [
    "## Output visual display of the lane boundaries and numerical estimation of lane curvature and vehicle position"
   ]
  },
  {
   "cell_type": "code",
   "execution_count": null,
   "metadata": {
    "scrolled": false
   },
   "outputs": [],
   "source": [
    "def putText(image, text, bottomLeftCornerOfText):\n",
    "    cv2.putText(img = image,\n",
    "                text = text,\n",
    "                org = bottomLeftCornerOfText,\n",
    "                fontFace = cv2.FONT_HERSHEY_SIMPLEX,\n",
    "                fontScale = 1.5,\n",
    "                color = (255, 255, 255),\n",
    "                thickness = 2)\n",
    "\n",
    "def printInfos(image, curverad, vehicle_position):\n",
    "    radius_of_curvature_text = \"Radius of Curvature = {:.2f} km\".format(curverad/1000)\n",
    "    putText(image, radius_of_curvature_text, (50, 50))\n",
    "    \n",
    "    vehicle_position_text = \"Vehicle is {:.0f} cm {} of center\".format(\n",
    "        abs(vehicle_position*100),\n",
    "        'right' if vehicle_position>0 else 'left')\n",
    "    putText(image, vehicle_position_text, (50, 100))"
   ]
  },
  {
   "cell_type": "markdown",
   "metadata": {},
   "source": [
    "## Run Pipeline"
   ]
  },
  {
   "cell_type": "code",
   "execution_count": null,
   "metadata": {},
   "outputs": [],
   "source": [
    "def polyfit_left_line_right_line_helper(results, pix2Meter):\n",
    "    return polyfit_left_line_right_line(lane_pixels = results[PipelineResultType.LANE_PIXELS],\n",
    "                                        height = get_height(results[PipelineResultType.PERSPECTIVE_COMBINED_BINARY]),\n",
    "                                        pix2Meter = pix2Meter)\n",
    "    \n",
    "    \n",
    "def get_polyfitted_left_line_right_line_in_pixel(results):\n",
    "    left_line, right_line, y = polyfit_left_line_right_line_helper(results, Pix2Meter(ym_per_pix = 1, xm_per_pix = 1))\n",
    "    return lambda: (left_line, right_line, y)\n",
    "\n",
    "def get_polyfitted_left_line_right_line_in_meter(results):\n",
    "    left_line, right_line, y = polyfit_left_line_right_line_helper(results, create_default_pix2Meter())\n",
    "    return lambda: (left_line, right_line, y)"
   ]
  },
  {
   "cell_type": "code",
   "execution_count": null,
   "metadata": {},
   "outputs": [],
   "source": [
    "from enum import Enum\n",
    "\n",
    "class PipelineResultType(Enum):\n",
    "    INPUT = 'INPUT'\n",
    "    UNDISTORTED = 'UNDISTORTED'\n",
    "    COLOR_BINARY = 'COLOR_BINARY'\n",
    "    COMBINED_BINARY = 'COMBINED_BINARY'\n",
    "    LANE_PIXELS = 'LANE_PIXELS'\n",
    "    LEFT_LINE = 'LEFT_LINE'\n",
    "    RIGHT_LINE = 'RIGHT_LINE'\n",
    "    PERSPECTIVE_COMBINED_BINARY = 'PERSPECTIVE_COMBINED_BINARY'\n",
    "    PERSPECTIVE_UNDISTORTED = 'PERSPECTIVE_UNDISTORTED'\n",
    "    LINES_WITH_SLIDING_WINDOWS = 'LINES_WITH_SLIDING_WINDOWS'\n",
    "    RADIUS_OF_CURVATURE = 'RADIUS_OF_CURVATURE'\n",
    "    LEFT_RADIUS_OF_CURVATURE = 'LEFT_RADIUS_OF_CURVATURE'\n",
    "    RIGHT_RADIUS_OF_CURVATURE = 'RIGHT_RADIUS_OF_CURVATURE'\n",
    "    LINES = 'LINES'\n",
    "    OUTPUT = 'OUTPUT'"
   ]
  },
  {
   "cell_type": "code",
   "execution_count": null,
   "metadata": {},
   "outputs": [],
   "source": [
    "class PipelineResults:\n",
    "    \n",
    "    def __init__(self):\n",
    "        self.results = {}\n",
    "\n",
    "    def getImageResults(self):\n",
    "        return {entity: self.results[entity] for entity in self.results.keys() & {PipelineResultType.INPUT,\n",
    "                                                                                  PipelineResultType.UNDISTORTED,\n",
    "                                                                                  PipelineResultType.COLOR_BINARY,\n",
    "                                                                                  PipelineResultType.COMBINED_BINARY,\n",
    "                                                                                  PipelineResultType.PERSPECTIVE_COMBINED_BINARY,\n",
    "                                                                                  PipelineResultType.PERSPECTIVE_UNDISTORTED,\n",
    "                                                                                  PipelineResultType.LINES_WITH_SLIDING_WINDOWS,\n",
    "                                                                                  PipelineResultType.LINES,\n",
    "                                                                                  PipelineResultType.OUTPUT}}"
   ]
  },
  {
   "cell_type": "code",
   "execution_count": null,
   "metadata": {},
   "outputs": [],
   "source": [
    "class Line():\n",
    "    \n",
    "    def __init__(self,\n",
    "                 polynomial_coeffs_in_pixel,\n",
    "                 averaged_polynomial_coeffs_in_pixel,\n",
    "                 \n",
    "                 polynomial_coeffs_in_meter,\n",
    "                 averaged_polynomial_coeffs_in_meter):\n",
    "        \n",
    "        self.polynomial_coeffs_in_pixel = polynomial_coeffs_in_pixel\n",
    "        self.averaged_polynomial_coeffs_in_pixel = averaged_polynomial_coeffs_in_pixel\n",
    "        \n",
    "        self.polynomial_coeffs_in_meter = polynomial_coeffs_in_meter\n",
    "        self.averaged_polynomial_coeffs_in_meter = averaged_polynomial_coeffs_in_meter"
   ]
  },
  {
   "cell_type": "code",
   "execution_count": null,
   "metadata": {},
   "outputs": [],
   "source": [
    "from numpy.linalg import inv\n",
    "from collections import deque\n",
    "\n",
    "# TODO: add outlier detection and reuse previous frame or average of previous frames if outlier frame detected\n",
    "# TODO: use weighted average?\n",
    "# TODO: im Allgemeinen können Koeffizienten in Pixel immer in Meter umgerechnet werden, deshalb muß man immer nur Koeffizienten in einer einzigen Einheit speichern. Bsp: left_polynomial_coeffs_in_pixel und left_polynomial_coeffs_in_meter\n",
    "class Pipeline:\n",
    "    \n",
    "    def __init__(self, average_n_frames):\n",
    "        create_deque = lambda: deque(maxlen = average_n_frames)\n",
    "        self.left_polynomial_coeffs_in_pixel = create_deque()\n",
    "        self.right_polynomial_coeffs_in_pixel = create_deque()\n",
    "        self.left_polynomial_coeffs_in_meter = create_deque()\n",
    "        self.right_polynomial_coeffs_in_meter = create_deque()\n",
    "\n",
    "    def process_image(self, image):\n",
    "        pipelineResults = PipelineResults()\n",
    "        pipelineResults.results = {PipelineResultType.INPUT: image}\n",
    "        calibration_data = get_calibration_data()\n",
    "\n",
    "        pipelineResults.results[PipelineResultType.UNDISTORTED] = undistort(image, calibration_data)\n",
    "\n",
    "        pipelineResults.results[PipelineResultType.COLOR_BINARY], pipelineResults.results[PipelineResultType.COMBINED_BINARY] = \\\n",
    "            create_binary_images(pipelineResults.results[PipelineResultType.UNDISTORTED],\n",
    "                                 s_channel_thresholds = (170, 255),\n",
    "                                 x_derivative_thresholds = (60, 100))\n",
    "\n",
    "        pipelineResults.results[PipelineResultType.PERSPECTIVE_COMBINED_BINARY] = warpPerspective(pipelineResults.results[PipelineResultType.COMBINED_BINARY])\n",
    "        pipelineResults.results[PipelineResultType.PERSPECTIVE_UNDISTORTED] = warpPerspective(pipelineResults.results[PipelineResultType.UNDISTORTED])\n",
    "\n",
    "        pipelineResults.results[PipelineResultType.LANE_PIXELS] = find_lane_pixels(pipelineResults.results[PipelineResultType.PERSPECTIVE_COMBINED_BINARY])\n",
    "        \n",
    "        left_line_pixel, right_line_pixel, _ = get_polyfitted_left_line_right_line_in_pixel(pipelineResults.results)()\n",
    "        self.left_polynomial_coeffs_in_pixel.append(left_line_pixel.coef)\n",
    "        self.right_polynomial_coeffs_in_pixel.append(right_line_pixel.coef)\n",
    "            \n",
    "        left_line_meter, right_line_meter, _ = get_polyfitted_left_line_right_line_in_meter(pipelineResults.results)()\n",
    "        self.left_polynomial_coeffs_in_meter.append(left_line_meter.coef)\n",
    "        self.right_polynomial_coeffs_in_meter.append(right_line_meter.coef)\n",
    "        \n",
    "        pipelineResults.results[PipelineResultType.LEFT_LINE] =\\\n",
    "            Line(polynomial_coeffs_in_pixel = left_line_pixel.coef,\n",
    "                 averaged_polynomial_coeffs_in_pixel = self.__average(self.left_polynomial_coeffs_in_pixel),\n",
    "                 polynomial_coeffs_in_meter = left_line_meter.coef,\n",
    "                 averaged_polynomial_coeffs_in_meter = self.__average(self.left_polynomial_coeffs_in_meter))\n",
    "        \n",
    "        pipelineResults.results[PipelineResultType.RIGHT_LINE] =\\\n",
    "            Line(polynomial_coeffs_in_pixel = right_line_pixel.coef,\n",
    "                 averaged_polynomial_coeffs_in_pixel = self.__average(self.right_polynomial_coeffs_in_pixel),\n",
    "                 polynomial_coeffs_in_meter = right_line_meter.coef,\n",
    "                 averaged_polynomial_coeffs_in_meter = self.__average(self.right_polynomial_coeffs_in_meter))\n",
    "        \n",
    "        image, pipelineResults.results[PipelineResultType.LINES_WITH_SLIDING_WINDOWS] = \\\n",
    "            project_lane_area_onto_undistorted_image(pipelineResults.results[PipelineResultType.PERSPECTIVE_COMBINED_BINARY],\n",
    "                                                     pipelineResults.results[PipelineResultType.UNDISTORTED],\n",
    "                                                     inv(getPerspectiveTransform()),\n",
    "                                                     pipelineResults.results[PipelineResultType.LANE_PIXELS],\n",
    "                                                     self.__get_averaged_polyfitted_left_line_right_line_in_pixel(pipelineResults.results))\n",
    "        pipelineResults.results[PipelineResultType.LINES] = np.copy(image)\n",
    "        \n",
    "        (pipelineResults.results[PipelineResultType.LEFT_RADIUS_OF_CURVATURE],\n",
    "         pipelineResults.results[PipelineResultType.RIGHT_RADIUS_OF_CURVATURE],\n",
    "         pipelineResults.results[PipelineResultType.RADIUS_OF_CURVATURE]) =\\\n",
    "            get_radius_of_curvature(self.__get_averaged_polyfitted_left_line_right_line_in_meter(pipelineResults.results))\n",
    "\n",
    "        printInfos(image,\n",
    "                   curverad = pipelineResults.results[PipelineResultType.RADIUS_OF_CURVATURE],\n",
    "                   vehicle_position = get_vehicle_position(pipelineResults.results[PipelineResultType.PERSPECTIVE_COMBINED_BINARY],\n",
    "                                                           self.__get_averaged_polyfitted_left_line_right_line_in_meter(pipelineResults.results)))\n",
    "        pipelineResults.results[PipelineResultType.OUTPUT] = image\n",
    "        return pipelineResults\n",
    "\n",
    "    def __get_averaged_polyfitted_left_line_right_line_in_meter(self, results):\n",
    "        _, _, y = get_polyfitted_left_line_right_line_in_meter(results)()\n",
    "        left_line = np.poly1d(results[PipelineResultType.LEFT_LINE].averaged_polynomial_coeffs_in_meter)\n",
    "        right_line  = np.poly1d(results[PipelineResultType.RIGHT_LINE].averaged_polynomial_coeffs_in_meter)\n",
    "        return lambda: (left_line, right_line, y)\n",
    "\n",
    "    def __get_averaged_polyfitted_left_line_right_line_in_pixel(self, results):\n",
    "        _, _, y = get_polyfitted_left_line_right_line_in_pixel(results)()\n",
    "        left_line = np.poly1d(results[PipelineResultType.LEFT_LINE].averaged_polynomial_coeffs_in_pixel)\n",
    "        right_line  = np.poly1d(results[PipelineResultType.RIGHT_LINE].averaged_polynomial_coeffs_in_pixel)\n",
    "        return lambda: (left_line, right_line, y)\n",
    "    \n",
    "    def __average(self, coeffs):\n",
    "        return np.average(coeffs, axis = 0)"
   ]
  },
  {
   "cell_type": "code",
   "execution_count": null,
   "metadata": {
    "scrolled": false
   },
   "outputs": [],
   "source": [
    "import unittest\n",
    "\n",
    "class PipelineTestCase(unittest.TestCase):\n",
    "    \n",
    "    left_coeffs1_pixel = [7.706599689821455e-05, -0.12631282250945297, 404.84301374593497]\n",
    "    right_coeffs1_pixel = [0.00022263474036021452, -0.2500912700122073, 1084.947412992218]\n",
    "    left_coeffs2_pixel = [0.00015721580019633635, -0.3385262518591035, 509.20927542320135]\n",
    "    right_coeffs2_pixel = [0.00019224195369502113, -0.2806320109024004, 1119.5589021553017]\n",
    "\n",
    "    def test_average_frames(self):\n",
    "        # GIVEN\n",
    "        pipeline = Pipeline(average_n_frames = 2)\n",
    "        \n",
    "        def average(coeffs1, coeffs2):\n",
    "            return [(a+b)/2 for a, b in zip(coeffs1, coeffs2)]\n",
    "\n",
    "        # WHEN & THEN\n",
    "        self.__process_image_and_check_coeffs(pipeline,\n",
    "                                              'test_images/test4.jpg',\n",
    "                                              left_coeffs_pixel_expected = self.left_coeffs1_pixel,\n",
    "                                              left_coeffs_meter_expected = self.__transform_to_meter(self.left_coeffs1_pixel),\n",
    "                                              left_coeffs_avg_pixel_expected = self.left_coeffs1_pixel,\n",
    "                                              right_coeffs_pixel_expected = self.right_coeffs1_pixel,\n",
    "                                              right_coeffs_avg_pixel_expected = self.right_coeffs1_pixel)\n",
    "        \n",
    "        left_coeffs2_avg_pixel = average(self.left_coeffs1_pixel, self.left_coeffs2_pixel)\n",
    "        right_coeffs2_avg_pixel = average(self.right_coeffs1_pixel, self.right_coeffs2_pixel)\n",
    "        results = self.__process_image_and_check_coeffs(pipeline,\n",
    "                                                        'test_images/test6.jpg',\n",
    "                                                        left_coeffs_pixel_expected = self.left_coeffs2_pixel,\n",
    "                                                        left_coeffs_avg_pixel_expected = left_coeffs2_avg_pixel,\n",
    "                                                        right_coeffs_pixel_expected = self.right_coeffs2_pixel,\n",
    "                                                        right_coeffs_avg_pixel_expected = right_coeffs2_avg_pixel)\n",
    "        \n",
    "        # TODO: refactor, extract method\n",
    "        # THEN radius of curvature is based on averaged polynomial coefficients of left line and right line.\n",
    "        y_eval = np.max(get_polyfitted_left_line_right_line_in_meter(results)()[2])\n",
    "        r_curve = (R_curve(np.poly1d(self.__transform_to_meter(left_coeffs2_avg_pixel)), y_eval) + R_curve(np.poly1d(self.__transform_to_meter(right_coeffs2_avg_pixel)), y_eval))/2\n",
    "        np.testing.assert_almost_equal(actual = results[PipelineResultType.RADIUS_OF_CURVATURE],\n",
    "                                       desired = r_curve,\n",
    "                                       decimal = 7)\n",
    "\n",
    "    def __transform_to_meter(self, coeffs):\n",
    "        pix2Meter = create_default_pix2Meter()\n",
    "        return [coeffs[0]*pix2Meter.xm_per_pix/(pix2Meter.ym_per_pix**2),\n",
    "                coeffs[1]*pix2Meter.xm_per_pix/pix2Meter.ym_per_pix,\n",
    "                coeffs[2]*pix2Meter.xm_per_pix]\n",
    "\n",
    "    def __process_image_and_check_coeffs(self,\n",
    "                                         pipeline,\n",
    "                                         image,\n",
    "                                         left_coeffs_pixel_expected = None,\n",
    "                                         left_coeffs_meter_expected = None,\n",
    "                                         left_coeffs_avg_pixel_expected = None,\n",
    "                                         right_coeffs_pixel_expected = None,\n",
    "                                         right_coeffs_avg_pixel_expected = None):\n",
    "        # GIVEN\n",
    "        image = mpimg.imread(image)\n",
    "\n",
    "        # WHEN\n",
    "        results = pipeline.process_image(image).results\n",
    "\n",
    "        # THEN\n",
    "        if left_coeffs_pixel_expected is not None:\n",
    "            self.assertEqual(left_coeffs_pixel_expected, list(results[PipelineResultType.LEFT_LINE].polynomial_coeffs_in_pixel))\n",
    "        if left_coeffs_meter_expected is not None:\n",
    "            np.testing.assert_almost_equal(actual = list(results[PipelineResultType.LEFT_LINE].polynomial_coeffs_in_meter),\n",
    "                                           desired = left_coeffs_meter_expected,\n",
    "                                           decimal = 7)\n",
    "        if left_coeffs_avg_pixel_expected is not None:\n",
    "            self.assertEqual(left_coeffs_avg_pixel_expected, list(results[PipelineResultType.LEFT_LINE].averaged_polynomial_coeffs_in_pixel))\n",
    "        if right_coeffs_pixel_expected is not None:\n",
    "            self.assertEqual(right_coeffs_pixel_expected, list(results[PipelineResultType.RIGHT_LINE].polynomial_coeffs_in_pixel))\n",
    "        if right_coeffs_avg_pixel_expected is not None:\n",
    "            self.assertEqual(right_coeffs_avg_pixel_expected, list(results[PipelineResultType.RIGHT_LINE].averaged_polynomial_coeffs_in_pixel))\n",
    "\n",
    "        return results\n",
    "\n",
    "    def test_average_n_frames(self):\n",
    "        # GIVEN\n",
    "        pipeline = Pipeline(average_n_frames = 1)\n",
    "                    \n",
    "        # WHEN & THEN\n",
    "        self.__process_image_and_check_coeffs(pipeline,\n",
    "                                              'test_images/test4.jpg',\n",
    "                                              left_coeffs_avg_pixel_expected = self.left_coeffs1_pixel,\n",
    "                                              right_coeffs_avg_pixel_expected = self.right_coeffs1_pixel)\n",
    "        \n",
    "        self.__process_image_and_check_coeffs(pipeline,\n",
    "                                              'test_images/test6.jpg',\n",
    "                                              left_coeffs_avg_pixel_expected = self.left_coeffs2_pixel,\n",
    "                                              right_coeffs_avg_pixel_expected = self.right_coeffs2_pixel)\n",
    "        \n",
    "    def test_detect_outlier(self):\n",
    "        # GIVEN\n",
    "        pipeline = Pipeline(average_n_frames = 2)\n",
    "        image = mpimg.imread('test_images/tree_with_shadow.jpg')\n",
    "        \n",
    "        # WHEN\n",
    "        results = pipeline.process_image(image).results\n",
    "        \n",
    "        # THEN\n",
    "        \n",
    "\n",
    "        \n",
    "suite = unittest.TestLoader().loadTestsFromTestCase(PipelineTestCase)\n",
    "runner = unittest.TextTestRunner(verbosity = 2)\n",
    "runner.run(suite)"
   ]
  },
  {
   "cell_type": "code",
   "execution_count": null,
   "metadata": {
    "scrolled": false
   },
   "outputs": [],
   "source": [
    "def pipeline(image):\n",
    "    return Pipeline(average_n_frames = 1).process_image(image)"
   ]
  },
  {
   "cell_type": "code",
   "execution_count": null,
   "metadata": {
    "scrolled": false
   },
   "outputs": [],
   "source": [
    "import unittest\n",
    "import numpy as np\n",
    "\n",
    "class SanityCheckTestCase(unittest.TestCase):\n",
    "    \n",
    "    def __init__(self, *args, **kwargs):\n",
    "        super(SanityCheckTestCase, self).__init__(*args, **kwargs)\n",
    "        self.images = [#'test_images/straight_lines1.jpg',\n",
    "                       #'test_images/straight_lines2.jpg',\n",
    "                       'test_images/test1.jpg',\n",
    "                       #'test_images/test2.jpg',\n",
    "                       #'test_images/test3.jpg',\n",
    "                       #'test_images/test4.jpg',\n",
    "                       #'test_images/test5.jpg',\n",
    "                       #'test_images/test6.jpg',\n",
    "                       #'test_images/tree_with_shadow.jpg'\n",
    "        ]\n",
    "\n",
    "    def get_lane_widths(self, results):\n",
    "        left_line, right_line, y = polyfit_left_line_right_line(lane_pixels = results[PipelineResultType.LANE_PIXELS],\n",
    "                                                                height = get_height(results[PipelineResultType.PERSPECTIVE_COMBINED_BINARY]),\n",
    "                                                                pix2Meter = create_default_pix2Meter())\n",
    "        lane_widths = right_line(y) - left_line(y)\n",
    "        return y, lane_widths\n",
    "\n",
    "        \n",
    "    def test_lane_width_is_3_point_7(self):\n",
    "        for image in self.images:\n",
    "            with self.subTest(image = image):\n",
    "                self.__test_lane_width_is_3_point_7(image)\n",
    "\n",
    "    def __test_lane_width_is_3_point_7(self, image):\n",
    "        # GIVEN\n",
    "        image = mpimg.imread(image)\n",
    "\n",
    "        # WHEN\n",
    "        results = pipeline(image).results\n",
    "\n",
    "        # THEN\n",
    "        lane_widths = self.get_lane_widths(results)[1]\n",
    "        np.testing.assert_almost_equal(actual = lane_widths,\n",
    "                                       desired = [3.7] * len(lane_widths),\n",
    "                                       decimal = 2)\n",
    "        \n",
    "    def test_lane_has_constant_width(self):\n",
    "        for image in self.images:\n",
    "            with self.subTest(image = image):\n",
    "                self.__test_lane_has_constant_width(image)\n",
    "\n",
    "    def __test_lane_has_constant_width(self, image):\n",
    "        # GIVEN\n",
    "        image = mpimg.imread(image)\n",
    "        \n",
    "        # WHEN\n",
    "        results = pipeline(image)\n",
    "        \n",
    "        # THEN\n",
    "        lane_widths = self.get_lane_widths(results)[1]\n",
    "        # TODO: or test var(lane_widths) almost zero?\n",
    "        np.testing.assert_almost_equal(actual = lane_widths,\n",
    "                                       desired = [lane_widths[0]] * len(lane_widths),\n",
    "                                       decimal = 2)\n",
    "\n",
    "\n",
    "suite = unittest.TestLoader().loadTestsFromTestCase(SanityCheckTestCase)\n",
    "runner = unittest.TextTestRunner(verbosity = 2)\n",
    "runner.run(suite)"
   ]
  },
  {
   "cell_type": "code",
   "execution_count": null,
   "metadata": {
    "scrolled": false
   },
   "outputs": [],
   "source": [
    "def run_pipeline_draw_save(input_image, ouput_image_pattern):\n",
    "    pipelineResults = pipeline(mpimg.imread(input_image))\n",
    "    for resultType in pipelineResults.getImageResults():\n",
    "        plt.figure(figsize = (10, 10))\n",
    "        plt.imshow(pipelineResults.results[resultType], cmap = 'gray')\n",
    "        savefig(ouput_image_pattern.format(resultType.name))"
   ]
  },
  {
   "cell_type": "code",
   "execution_count": null,
   "metadata": {
    "scrolled": false
   },
   "outputs": [],
   "source": [
    "run_pipeline_draw_save(input_image = 'test_images/test1.jpg',\n",
    "                       ouput_image_pattern = 'output_images/test1_{}.png')"
   ]
  },
  {
   "cell_type": "code",
   "execution_count": null,
   "metadata": {
    "scrolled": false
   },
   "outputs": [],
   "source": [
    "run_pipeline_draw_save(input_image = 'test_images/test2.jpg',\n",
    "                       ouput_image_pattern = 'output_images/test2_{}.png')"
   ]
  },
  {
   "cell_type": "code",
   "execution_count": null,
   "metadata": {
    "scrolled": false
   },
   "outputs": [],
   "source": [
    "run_pipeline_draw_save(input_image = 'test_images/tree_with_shadow.jpg',\n",
    "                       ouput_image_pattern = 'output_images/tree_with_shadow_{}.png')"
   ]
  },
  {
   "cell_type": "code",
   "execution_count": null,
   "metadata": {
    "scrolled": false
   },
   "outputs": [],
   "source": [
    "def draw(input_image, output_image):\n",
    "    f, (ax1, ax2) = plt.subplots(1, 2, figsize = (24, 9))\n",
    "    f.tight_layout()\n",
    "\n",
    "    ax1.imshow(input_image)\n",
    "    ax1.set_title('image -> pipeline', fontsize = 50)\n",
    "\n",
    "    ax2.imshow(output_image, cmap = 'gray')\n",
    "    ax2.set_title('pipeline -> image', fontsize = 50)\n",
    "\n",
    "    plt.subplots_adjust(left = 0., right = 1, top = 0.9, bottom = 0.)\n",
    "        \n",
    "def run_pipeline_and_draw(image):\n",
    "    input_image = mpimg.imread(image)\n",
    "    # image = cv2.imread('test_images/straight_lines2.jpg')\n",
    "    draw(input_image = input_image,\n",
    "         output_image = pipeline(input_image).results[PipelineResultType.OUTPUT])"
   ]
  },
  {
   "cell_type": "code",
   "execution_count": null,
   "metadata": {
    "scrolled": false
   },
   "outputs": [],
   "source": [
    "run_pipeline_and_draw('test_images/straight_lines1.jpg')\n",
    "run_pipeline_and_draw('test_images/straight_lines2.jpg')\n",
    "run_pipeline_and_draw('test_images/test1.jpg')\n",
    "run_pipeline_and_draw('test_images/test2.jpg')\n",
    "run_pipeline_and_draw('test_images/test3.jpg')\n",
    "run_pipeline_and_draw('test_images/test4.jpg')\n",
    "run_pipeline_and_draw('test_images/test5.jpg')\n",
    "run_pipeline_and_draw('test_images/test6.jpg')\n",
    "run_pipeline_and_draw('test_images/tree_with_shadow.jpg')"
   ]
  },
  {
   "cell_type": "markdown",
   "metadata": {},
   "source": [
    "## Video"
   ]
  },
  {
   "cell_type": "code",
   "execution_count": null,
   "metadata": {
    "scrolled": false
   },
   "outputs": [],
   "source": [
    "from moviepy.editor import VideoFileClip\n",
    "from IPython.display import HTML"
   ]
  },
  {
   "cell_type": "code",
   "execution_count": null,
   "metadata": {
    "scrolled": false
   },
   "outputs": [],
   "source": [
    "def create_image_func():\n",
    "    pipeline = Pipeline(average_n_frames = 50)\n",
    "    return lambda image: pipeline.process_image(image).results[PipelineResultType.OUTPUT]"
   ]
  },
  {
   "cell_type": "code",
   "execution_count": null,
   "metadata": {
    "scrolled": false
   },
   "outputs": [],
   "source": [
    "def process_video(input_video, output_video):\n",
    "    clip = VideoFileClip(input_video)\n",
    "    clip_processed = clip.fl_image(create_image_func())\n",
    "    %time clip_processed.write_videofile(output_video, audio = False)"
   ]
  },
  {
   "cell_type": "code",
   "execution_count": null,
   "metadata": {
    "scrolled": false
   },
   "outputs": [],
   "source": [
    "def embed_video(video):\n",
    "    return HTML(\"\"\"\n",
    "    <video width=\"960\" height=\"540\" controls>\n",
    "      <source src=\"{0}\">\n",
    "    </video>\n",
    "    \"\"\".format(video))"
   ]
  },
  {
   "cell_type": "code",
   "execution_count": null,
   "metadata": {
    "scrolled": false
   },
   "outputs": [],
   "source": [
    "output_video = 'test_videos_output/project_video.mp4'\n",
    "#process_video(input_video = 'test_videos/project_video.mp4', output_video = output_video)\n",
    "embed_video(output_video)"
   ]
  },
  {
   "cell_type": "code",
   "execution_count": null,
   "metadata": {
    "scrolled": true
   },
   "outputs": [],
   "source": [
    "output_video = 'test_videos_output/challenge_video.mp4'\n",
    "#process_video(input_video = 'test_videos/challenge_video.mp4', output_video = output_video)\n",
    "embed_video(output_video)"
   ]
  },
  {
   "cell_type": "code",
   "execution_count": null,
   "metadata": {
    "scrolled": false
   },
   "outputs": [],
   "source": [
    "output_video = 'test_videos_output/harder_challenge_video.mp4'\n",
    "#process_video(input_video = 'test_videos/harder_challenge_video.mp4', output_video = output_video)\n",
    "embed_video(output_video)"
   ]
  }
 ],
 "metadata": {
  "anaconda-cloud": {},
  "kernelspec": {
   "display_name": "Python 3",
   "language": "python",
   "name": "python3"
  },
  "language_info": {
   "codemirror_mode": {
    "name": "ipython",
    "version": 3
   },
   "file_extension": ".py",
   "mimetype": "text/x-python",
   "name": "python",
   "nbconvert_exporter": "python",
   "pygments_lexer": "ipython3",
   "version": "3.6.5"
  }
 },
 "nbformat": 4,
 "nbformat_minor": 1
}

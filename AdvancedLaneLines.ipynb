{
 "cells": [
  {
   "cell_type": "markdown",
   "metadata": {},
   "source": [
    "## Advanced Lane Finding Project\n",
    "\n",
    "The goals / steps of this project are the following:\n",
    "\n",
    "* Compute the camera calibration matrix and distortion coefficients given a set of chessboard images.\n",
    "* Apply a distortion correction to raw images.\n",
    "* Use color transforms, gradients, etc., to create a thresholded binary image.\n",
    "* Apply a perspective transform to rectify binary image (\"birds-eye view\").\n",
    "* Detect lane pixels and fit to find the lane boundary.\n",
    "* Determine the curvature of the lane and vehicle position with respect to center.\n",
    "* Warp the detected lane boundaries back onto the original image.\n",
    "* Output visual display of the lane boundaries and numerical estimation of lane curvature and vehicle position."
   ]
  },
  {
   "cell_type": "code",
   "execution_count": null,
   "metadata": {
    "scrolled": false
   },
   "outputs": [],
   "source": [
    "def get_width(image):\n",
    "    return image.shape[1]\n",
    "\n",
    "def get_height(image):\n",
    "    return image.shape[0]\n",
    "\n",
    "def get_imageSize_for_cv2(image):\n",
    "    return (get_width(image), get_height(image))\n",
    "\n",
    "class Pix2Meter:    \n",
    "    def __init__(self, ym_per_pix, xm_per_pix):\n",
    "        # meters per pixel in y dimension\n",
    "        self.ym_per_pix = ym_per_pix\n",
    "        # meters per pixel in x dimension\n",
    "        self.xm_per_pix = xm_per_pix\n",
    "    \n",
    "    def y_pix_2_meter(self, pix):\n",
    "        return pix * self.ym_per_pix\n",
    "\n",
    "    def x_pix_2_meter(self, pix):\n",
    "        return pix * self.xm_per_pix\n",
    "\n",
    "def create_default_pix2Meter():\n",
    "    return Pix2Meter(ym_per_pix = 30/720, xm_per_pix = 3.7/700)\n",
    "\n",
    "def savefig(image):\n",
    "    plt.savefig(image, bbox_inches = 'tight')"
   ]
  },
  {
   "cell_type": "markdown",
   "metadata": {},
   "source": [
    "## Compute the camera calibration matrix and distortion coefficients given a set of chessboard images"
   ]
  },
  {
   "cell_type": "code",
   "execution_count": null,
   "metadata": {
    "scrolled": false
   },
   "outputs": [],
   "source": [
    "import numpy as np\n",
    "import cv2\n",
    "import glob\n",
    "import matplotlib.pyplot as plt\n",
    "%matplotlib qt\n",
    "\n",
    "def get_objpoints_imgpoints(draw):\n",
    "    patternSize = (9, 6)\n",
    "    # prepare object points, like (0,0,0), (1,0,0), (2,0,0) ....,(6,5,0)\n",
    "    objp = np.zeros((np.prod(patternSize), 3), np.float32)\n",
    "    objp[:,:2] = np.mgrid[0:9,0:6].T.reshape(-1,2)\n",
    "\n",
    "    # Arrays to store object points and image points from all the images.\n",
    "    objpoints = [] # 3d points in real world space\n",
    "    imgpoints = [] # 2d points in image plane.\n",
    "\n",
    "    # Make a list of calibration images\n",
    "    images = glob.glob('camera_cal/calibration*.jpg')\n",
    "\n",
    "    # Step through the list and search for chessboard corners\n",
    "    for fname in images:\n",
    "        img = cv2.imread(fname)\n",
    "        gray = cv2.cvtColor(img, cv2.COLOR_BGR2GRAY)\n",
    "\n",
    "        # Find the chessboard corners\n",
    "        ret, corners = cv2.findChessboardCorners(gray, patternSize, None)\n",
    "\n",
    "        # If found, add object points, image points\n",
    "        if ret == True:\n",
    "            objpoints.append(objp)\n",
    "            imgpoints.append(corners)\n",
    "\n",
    "            # Draw and display the corners\n",
    "            if draw:\n",
    "                img = cv2.drawChessboardCorners(img, patternSize, corners, ret)\n",
    "                cv2.imshow('img', img)\n",
    "                cv2.waitKey(500)\n",
    "\n",
    "    cv2.destroyAllWindows()\n",
    "    return objpoints, imgpoints"
   ]
  },
  {
   "cell_type": "code",
   "execution_count": null,
   "metadata": {
    "scrolled": false
   },
   "outputs": [],
   "source": [
    "import pickle\n",
    "import os\n",
    "\n",
    "def calibrateCamera():\n",
    "    objpoints, imgpoints = get_objpoints_imgpoints(draw = False)\n",
    "    img = cv2.imread('camera_cal/calibration1.jpg')\n",
    "    # Do camera calibration given object points and image points\n",
    "    _, cameraMatrix, distCoeffs, _, _ = cv2.calibrateCamera(objpoints,\n",
    "                                                            imgpoints,\n",
    "                                                            get_imageSize_for_cv2(img),\n",
    "                                                            None,\n",
    "                                                            None)\n",
    "    calibration_data = {\"cameraMatrix\": cameraMatrix, \"distCoeffs\": distCoeffs}\n",
    "    return calibration_data\n",
    "\n",
    "def get_calibrateCamera_pickle_file():\n",
    "    return 'camera_cal/wide_dist_pickle.p'\n",
    "\n",
    "# Save the camera calibration result for later use (we won't worry about rvecs / tvecs)\n",
    "def save_calibration_data(calibration_data):\n",
    "    pickle.dump(calibration_data, open(get_calibrateCamera_pickle_file(), \"wb\"))\n",
    "\n",
    "# Read in the saved camera matrix and distortion coefficients\n",
    "def load_calibration_data():\n",
    "    calibration_data = pickle.load(open(get_calibrateCamera_pickle_file(), \"rb\"))\n",
    "    return calibration_data\n",
    "\n",
    "def get_calibration_data():\n",
    "    if not os.path.isfile(get_calibrateCamera_pickle_file()):\n",
    "        save_calibration_data(calibrateCamera())\n",
    "    return load_calibration_data()"
   ]
  },
  {
   "cell_type": "markdown",
   "metadata": {},
   "source": [
    "## Apply a distortion correction to raw images\n",
    "\n",
    "adapted from https://github.com/udacity/CarND-Camera-Calibration/blob/master/camera_calibration.ipynb"
   ]
  },
  {
   "cell_type": "code",
   "execution_count": null,
   "metadata": {
    "scrolled": false
   },
   "outputs": [],
   "source": [
    "def undistort(image, calibration_data):\n",
    "    return cv2.undistort(image,\n",
    "                         calibration_data['cameraMatrix'],\n",
    "                         calibration_data['distCoeffs'],\n",
    "                         None,\n",
    "                         calibration_data['cameraMatrix'])"
   ]
  },
  {
   "cell_type": "code",
   "execution_count": null,
   "metadata": {
    "scrolled": false
   },
   "outputs": [],
   "source": [
    "%matplotlib inline\n",
    "\n",
    "def visualize_undistortion(original_image, undistorted_image):\n",
    "    f, (ax1, ax2) = plt.subplots(1, 2, figsize=(20, 10))\n",
    "    ax1.imshow(original_image)\n",
    "    ax1.set_title('Original Image', fontsize=30)\n",
    "    ax2.imshow(undistorted_image)\n",
    "    ax2.set_title('Undistorted Image', fontsize=30)"
   ]
  },
  {
   "cell_type": "code",
   "execution_count": null,
   "metadata": {
    "scrolled": false
   },
   "outputs": [],
   "source": [
    "original_image = cv2.imread('camera_cal/calibration1.jpg')\n",
    "undistorted_image = undistort(original_image, get_calibration_data())\n",
    "# cv2.imwrite('output_images/calibration1_undistorted.png', dst)\n",
    "\n",
    "visualize_undistortion(original_image, undistorted_image)\n",
    "savefig('output_images/calibration1_undistorted.png')"
   ]
  },
  {
   "cell_type": "code",
   "execution_count": null,
   "metadata": {
    "scrolled": false
   },
   "outputs": [],
   "source": [
    "original_image = cv2.cvtColor(cv2.imread('test_images/test1.jpg'), cv2.COLOR_BGR2RGB)\n",
    "undistorted_image = undistort(original_image, get_calibration_data())\n",
    "\n",
    "visualize_undistortion(original_image, undistorted_image)\n",
    "savefig('output_images/test1_undistorted.png')"
   ]
  },
  {
   "cell_type": "markdown",
   "metadata": {},
   "source": [
    "## Use color transforms, gradients, etc., to create a thresholded binary image"
   ]
  },
  {
   "cell_type": "code",
   "execution_count": null,
   "metadata": {},
   "outputs": [],
   "source": [
    "import numpy as np\n",
    "import cv2\n",
    "import matplotlib.pyplot as plt\n",
    "import matplotlib.image as mpimg\n",
    "\n",
    "def apply_thresholds(image, thresholds):\n",
    "    result = np.zeros_like(image)\n",
    "    result[(image >= thresholds[0]) & (image <= thresholds[1])] = 1\n",
    "    return result\n",
    "\n",
    "    \n",
    "def detect_edges_using_x_derivative(image, sx_thresh):\n",
    "    # Sobel x\n",
    "    sobelx = cv2.Sobel(image, cv2.CV_64F, 1, 0) # Take the derivative in x\n",
    "    abs_sobelx = np.absolute(sobelx) # Absolute x derivative to accentuate lines away from horizontal\n",
    "    scaled_sobel = np.uint8(255*abs_sobelx/np.max(abs_sobelx))\n",
    "\n",
    "    # Threshold x gradient\n",
    "    return apply_thresholds(scaled_sobel, sx_thresh)\n",
    "\n",
    "\n",
    "def combine_with_or(binary_img1, binary_img2):\n",
    "    combined_binary = np.zeros_like(binary_img1)\n",
    "    combined_binary[(binary_img1 == 1) | (binary_img2 == 1)] = 1\n",
    "    return combined_binary\n",
    "\n",
    "\n",
    "def create_color_image(green_image, blue_image):\n",
    "    red_image = np.zeros_like(green_image)\n",
    "    return np.dstack((red_image, green_image, blue_image)) * 255\n",
    "    \n",
    "\n",
    "def get_l_channel_and_s_channel(image):\n",
    "    # Convert to HLS color space and separate the S and L channels\n",
    "    hls = cv2.cvtColor(np.copy(image), cv2.COLOR_RGB2HLS)\n",
    "    l_channel = hls[:,:,1]\n",
    "    s_channel = hls[:,:,2]\n",
    "    return l_channel, s_channel\n",
    "    \n",
    "\n",
    "def create_binary_images(image, s_channel_thresholds, x_derivative_thresholds):        \n",
    "    l_channel, s_channel = get_l_channel_and_s_channel(image)    \n",
    "    x_derivative_binary = detect_edges_using_x_derivative(l_channel, x_derivative_thresholds)\n",
    "    s_channel_binary = apply_thresholds(s_channel, s_channel_thresholds)\n",
    "    \n",
    "    return (create_color_image(green_image = x_derivative_binary, blue_image = s_channel_binary),\n",
    "            combine_with_or(x_derivative_binary, s_channel_binary))"
   ]
  },
  {
   "cell_type": "code",
   "execution_count": null,
   "metadata": {
    "scrolled": false
   },
   "outputs": [],
   "source": [
    "image = mpimg.imread('test_images/test2.jpg')\n",
    "color_binary, combined_binary = create_binary_images(image,\n",
    "                                                     s_channel_thresholds = (170, 255),\n",
    "                                                     x_derivative_thresholds = (60, 100))\n",
    "\n",
    "# Plot the result\n",
    "f, (ax1, ax2, ax3) = plt.subplots(3, 1, figsize=(48, 18))\n",
    "f.tight_layout()\n",
    "\n",
    "ax1.imshow(image)\n",
    "ax1.set_title('Original Image')\n",
    "\n",
    "ax2.imshow(color_binary)\n",
    "ax2.set_title('color_binary')\n",
    "\n",
    "ax3.imshow(combined_binary, cmap = 'gray')\n",
    "ax3.set_title('combined_binary')\n",
    "\n",
    "savefig('output_images/test1_binary.png')"
   ]
  },
  {
   "cell_type": "code",
   "execution_count": null,
   "metadata": {
    "scrolled": false
   },
   "outputs": [],
   "source": [
    "image = mpimg.imread('test_images/tree_with_shadow.jpg')\n",
    "color_binary, combined_binary = create_binary_images(image,\n",
    "                                                     s_channel_thresholds = (170, 255),\n",
    "                                                     x_derivative_thresholds = (60, 100))\n",
    "\n",
    "# Plot the result\n",
    "f, (ax1, ax2, ax3) = plt.subplots(3, 1, figsize=(48, 18))\n",
    "f.tight_layout()\n",
    "\n",
    "ax1.imshow(image)\n",
    "ax1.set_title('Original Image')\n",
    "\n",
    "ax2.imshow(color_binary)\n",
    "ax2.set_title('color_binary')\n",
    "\n",
    "ax3.imshow(combined_binary, cmap = 'gray')\n",
    "ax3.set_title('combined_binary')"
   ]
  },
  {
   "cell_type": "markdown",
   "metadata": {},
   "source": [
    "## Apply a perspective transform to rectify binary image (\"birds-eye view\")"
   ]
  },
  {
   "cell_type": "code",
   "execution_count": null,
   "metadata": {
    "scrolled": false
   },
   "outputs": [],
   "source": [
    "def get_img_src_dst():\n",
    "    img = mpimg.imread('test_images/straight_lines2.jpg')\n",
    "    src = np.float32(\n",
    "        [\n",
    "            (get_width(img)/2 - 60, get_height(img)/2 + 100),\n",
    "            (get_width(img)/6 + 5, get_height(img)),\n",
    "            (get_width(img)*5/6 + 45, get_height(img)),\n",
    "            (get_width(img)/2 + 65, get_height(img)/2 + 100)\n",
    "        ])\n",
    "    dst = np.float32(\n",
    "        [\n",
    "            (get_width(img)/4, 0),\n",
    "            (get_width(img)/4, get_height(img)),\n",
    "            (get_width(img)*3/4, get_height(img)),\n",
    "            (get_width(img)*3/4, 0)\n",
    "        ])\n",
    "    return img, src, dst\n",
    "    \n",
    "def getPerspectiveTransform():\n",
    "    _, src, dst = get_img_src_dst()\n",
    "    return cv2.getPerspectiveTransform(src, dst)\n",
    "\n",
    "def warpPerspective(image):\n",
    "    return cv2.warpPerspective(src = image,\n",
    "                               M = getPerspectiveTransform(),\n",
    "                               dsize = get_imageSize_for_cv2(image),\n",
    "                               flags = cv2.INTER_NEAREST)"
   ]
  },
  {
   "cell_type": "code",
   "execution_count": null,
   "metadata": {
    "scrolled": false
   },
   "outputs": [],
   "source": [
    "import pickle\n",
    "import cv2\n",
    "import numpy as np\n",
    "import matplotlib.pyplot as plt\n",
    "import matplotlib.image as mpimg\n",
    "\n",
    "# Read in an image\n",
    "img, src, dst = get_img_src_dst()\n",
    "print(\"src:\\n\", src)\n",
    "print(\"dst:\\n\", dst)\n",
    "\n",
    "undist = undistort(img, get_calibration_data())\n",
    "\n",
    "def polylines(pts, image):\n",
    "    cv2.polylines(image, [pts.astype(int).reshape((-1, 1, 2))], True, (255, 0, 0), 6)\n",
    "\n",
    "undist_with_source_points = np.copy(undist)\n",
    "polylines(src, undist_with_source_points)\n",
    "\n",
    "warped = warpPerspective(undist)\n",
    "polylines(dst, warped)\n",
    "\n",
    "f, (ax1, ax2) = plt.subplots(1, 2, figsize = (24, 9))\n",
    "f.tight_layout()\n",
    "ax1.imshow(undist_with_source_points)\n",
    "ax1.set_title('Undistorted image with source points drawn', fontsize = 25)\n",
    "ax2.imshow(warped)\n",
    "ax2.set_title('Warped result with destination points drawn', fontsize = 25)\n",
    "plt.subplots_adjust(left = 0., right = 1, top = 0.9, bottom = 0.)\n",
    "\n",
    "savefig('output_images/test2_warped_straight_lines.png')"
   ]
  },
  {
   "cell_type": "markdown",
   "metadata": {},
   "source": [
    "## Detect lane pixels and fit to find the lane boundary"
   ]
  },
  {
   "cell_type": "code",
   "execution_count": null,
   "metadata": {
    "scrolled": false
   },
   "outputs": [],
   "source": [
    "import numpy as np\n",
    "import matplotlib.image as mpimg\n",
    "import matplotlib.pyplot as plt\n",
    "import cv2\n",
    "\n",
    "def find_lane_pixels(binary_warped):\n",
    "    # Take a histogram of the bottom half of the image\n",
    "    histogram = np.sum(binary_warped[get_height(binary_warped)//2:,:], axis = 0)\n",
    "    # Create an output image to draw on and visualize the result\n",
    "    out_img = np.dstack((binary_warped, binary_warped, binary_warped))\n",
    "    # Find the peak of the left and right halves of the histogram\n",
    "    # These will be the starting point for the left and right lines\n",
    "    midpoint = np.int(histogram.shape[0]//2)\n",
    "    leftx_base = np.argmax(histogram[:midpoint])\n",
    "    rightx_base = np.argmax(histogram[midpoint:]) + midpoint\n",
    "\n",
    "    # HYPERPARAMETERS\n",
    "    # Choose the number of sliding windows\n",
    "    nwindows = 9\n",
    "    # Set the width of the windows +/- margin\n",
    "    margin = 100\n",
    "    # Set minimum number of pixels found to recenter window\n",
    "    minpix = 50\n",
    "\n",
    "    # Set height of windows - based on nwindows above and image shape\n",
    "    window_height = np.int(get_height(binary_warped)//nwindows)\n",
    "    # Identify the x and y positions of all nonzero pixels in the image\n",
    "    nonzero = binary_warped.nonzero()\n",
    "    nonzeroy = np.array(nonzero[0])\n",
    "    nonzerox = np.array(nonzero[1])\n",
    "    # Current positions to be updated later for each window in nwindows\n",
    "    leftx_current = leftx_base\n",
    "    rightx_current = rightx_base\n",
    "\n",
    "    # Create empty lists to receive left and right lane pixel indices\n",
    "    left_lane_inds = []\n",
    "    right_lane_inds = []\n",
    "\n",
    "    # Step through the windows one by one\n",
    "    for window in range(nwindows):\n",
    "        # Identify window boundaries in x and y (and right and left)\n",
    "        win_y_low = get_height(binary_warped) - (window+1)*window_height\n",
    "        win_y_high = get_height(binary_warped) - window*window_height\n",
    "        win_xleft_low = leftx_current - margin\n",
    "        win_xleft_high = leftx_current + margin\n",
    "        win_xright_low = rightx_current - margin\n",
    "        win_xright_high = rightx_current + margin\n",
    "        \n",
    "        # Draw the windows on the visualization image\n",
    "        cv2.rectangle(out_img,\n",
    "                      (win_xleft_low, win_y_low),\n",
    "                      (win_xleft_high, win_y_high),\n",
    "                      (0, 255, 0),\n",
    "                      2) \n",
    "        cv2.rectangle(out_img,\n",
    "                      (win_xright_low, win_y_low),\n",
    "                      (win_xright_high, win_y_high),\n",
    "                      (0, 255, 0),\n",
    "                      2) \n",
    "        \n",
    "        # Identify the nonzero pixels in x and y within the window\n",
    "        good_left_inds = ((nonzeroy >= win_y_low) &\n",
    "                          (nonzeroy < win_y_high) & \n",
    "                          (nonzerox >= win_xleft_low) &\n",
    "                          (nonzerox < win_xleft_high)).nonzero()[0]\n",
    "        good_right_inds = ((nonzeroy >= win_y_low) &\n",
    "                           (nonzeroy < win_y_high) & \n",
    "                           (nonzerox >= win_xright_low) &\n",
    "                           (nonzerox < win_xright_high)).nonzero()[0]\n",
    "        \n",
    "        # Append these indices to the lists\n",
    "        left_lane_inds.append(good_left_inds)\n",
    "        right_lane_inds.append(good_right_inds)\n",
    "        \n",
    "        # If you found > minpix pixels, recenter next window on their mean position\n",
    "        if len(good_left_inds) > minpix:\n",
    "            leftx_current = np.int(np.mean(nonzerox[good_left_inds]))\n",
    "        if len(good_right_inds) > minpix:        \n",
    "            rightx_current = np.int(np.mean(nonzerox[good_right_inds]))\n",
    "\n",
    "    # Concatenate the arrays of indices (previously was a list of lists of pixels)\n",
    "    left_lane_inds = np.concatenate(left_lane_inds)\n",
    "    right_lane_inds = np.concatenate(right_lane_inds)\n",
    "\n",
    "    # Extract left and right line pixel positions\n",
    "    leftx = nonzerox[left_lane_inds]\n",
    "    lefty = nonzeroy[left_lane_inds] \n",
    "    rightx = nonzerox[right_lane_inds]\n",
    "    righty = nonzeroy[right_lane_inds]\n",
    "\n",
    "    return leftx, lefty, rightx, righty, out_img\n",
    "\n",
    "\n",
    "def polyfit_line(y, x, pix2Meter):\n",
    "    coeffs = np.polyfit(pix2Meter.y_pix_2_meter(y), pix2Meter.x_pix_2_meter(x), 2)\n",
    "    return np.poly1d(coeffs)\n",
    "\n",
    "\n",
    "def polyfit_left_line_right_line(lane_pixels, height, pix2Meter):\n",
    "    leftx, lefty, rightx, righty, _ = lane_pixels\n",
    "    left_line = polyfit_line(lefty, leftx, pix2Meter)\n",
    "    right_line = polyfit_line(righty, rightx, pix2Meter)\n",
    "    y = pix2Meter.y_pix_2_meter(np.linspace(0, height-1, height))\n",
    "    return left_line, right_line, y\n",
    "\n",
    "\n",
    "def draw_line(x, y, image):\n",
    "    pts = np.dstack((x.astype(int), y.astype(int)))[0]\n",
    "    pts = pts.reshape((-1, 1, 2))\n",
    "    cv2.polylines(image, [pts], False, (255, 255, 0), 3)\n",
    "\n",
    "    \n",
    "def fit_polynomial(height, lane_pixels):\n",
    "    leftx, lefty, rightx, righty, out_img = lane_pixels\n",
    "    left_line, right_line, y = polyfit_left_line_right_line(lane_pixels = lane_pixels,\n",
    "                                                            height = height,\n",
    "                                                            pix2Meter = Pix2Meter(ym_per_pix = 1, xm_per_pix = 1))\n",
    "\n",
    "    ## Visualization ##\n",
    "    # Colors in the left and right lane regions\n",
    "    out_img[lefty, leftx] = [255, 0, 0]\n",
    "    out_img[righty, rightx] = [0, 0, 255]\n",
    "    # Plots the left and right polynomials on the lane lines\n",
    "    draw_line(left_line(y), y, out_img)\n",
    "    draw_line(right_line(y), y, out_img)\n",
    "    return out_img, left_line(y), right_line(y), y"
   ]
  },
  {
   "cell_type": "markdown",
   "metadata": {},
   "source": [
    "## Determine the curvature of the lane and vehicle position with respect to center"
   ]
  },
  {
   "cell_type": "code",
   "execution_count": null,
   "metadata": {
    "scrolled": false
   },
   "outputs": [],
   "source": [
    "def R_curve(line, y):\n",
    "    return ((1 + (2*line.coef[0]*y + line.coef[1])**2)**1.5) / np.absolute(2*line.coef[0])\n",
    "\n",
    "def measure_curvature_real(image, lane_pixels):\n",
    "    '''\n",
    "    Calculates the curvature of polynomial functions in meters.\n",
    "    '''\n",
    "    left_line, right_line, y = polyfit_left_line_right_line(lane_pixels = lane_pixels,\n",
    "                                                            height = get_height(image),\n",
    "                                                            pix2Meter = create_default_pix2Meter())\n",
    "\n",
    "    # Define y-value where we want radius of curvature\n",
    "    # We'll choose the maximum y-value, corresponding to the bottom of the image\n",
    "    y_eval = np.max(y)\n",
    "    \n",
    "    # Calculation of R_curve (radius of curvature)\n",
    "    return R_curve(left_line, y_eval), R_curve(right_line, y_eval)\n",
    "\n",
    "def get_radius_of_curvature(image, lane_pixels):\n",
    "    left_curverad, right_curverad = measure_curvature_real(image, lane_pixels)\n",
    "    return (left_curverad + right_curverad)/2"
   ]
  },
  {
   "cell_type": "code",
   "execution_count": null,
   "metadata": {
    "scrolled": false
   },
   "outputs": [],
   "source": [
    "def get_vehicle_position(lane_pixels, image, pix2Meter):\n",
    "    left_line, right_line, y = polyfit_left_line_right_line(lane_pixels = lane_pixels,\n",
    "                                                            height = get_height(image),\n",
    "                                                            pix2Meter = pix2Meter)\n",
    "\n",
    "    def get_midpoint_of_lane():\n",
    "        y_eval = np.max(y)\n",
    "        return (left_line(y_eval) + right_line(y_eval))/2\n",
    "\n",
    "    def get_center_of_car():\n",
    "        return pix2Meter.x_pix_2_meter(get_width(image)/2)\n",
    "\n",
    "    return get_center_of_car() - get_midpoint_of_lane()"
   ]
  },
  {
   "cell_type": "markdown",
   "metadata": {},
   "source": [
    "## Warp the detected lane boundaries back onto the original image"
   ]
  },
  {
   "cell_type": "code",
   "execution_count": null,
   "metadata": {
    "scrolled": false
   },
   "outputs": [],
   "source": [
    "# Create an image to draw the lines on\n",
    "def project_lane_area_onto_undistorted_image(warped, undist, Minv, lane_pixels):\n",
    "    out_img, left_fitx, right_fitx, ploty = fit_polynomial(height = get_height(warped), lane_pixels = lane_pixels)\n",
    "\n",
    "    warp_zero = np.zeros_like(warped).astype(np.uint8)\n",
    "    color_warp = np.dstack((warp_zero, warp_zero, warp_zero))\n",
    "\n",
    "    # Recast the x and y points into usable format for cv2.fillPoly()\n",
    "    pts_left = np.array([np.transpose(np.vstack([left_fitx, ploty]))])\n",
    "    pts_right = np.array([np.flipud(np.transpose(np.vstack([right_fitx, ploty])))])\n",
    "    pts = np.hstack((pts_left, pts_right))\n",
    "\n",
    "    # Draw the lane onto the warped blank image\n",
    "    cv2.fillPoly(color_warp, np.int_([pts]), (0, 255, 0))\n",
    "\n",
    "    # Warp the blank back to original image space using inverse perspective matrix (Minv)\n",
    "    newwarp = cv2.warpPerspective(color_warp, Minv, get_imageSize_for_cv2(image))\n",
    "    # Combine the result with the original image\n",
    "    result = cv2.addWeighted(undist, 1, newwarp, 0.3, 0)\n",
    "    return result, out_img"
   ]
  },
  {
   "cell_type": "markdown",
   "metadata": {},
   "source": [
    "## Output visual display of the lane boundaries and numerical estimation of lane curvature and vehicle position"
   ]
  },
  {
   "cell_type": "code",
   "execution_count": null,
   "metadata": {
    "scrolled": false
   },
   "outputs": [],
   "source": [
    "def putText(image, text, bottomLeftCornerOfText):\n",
    "    cv2.putText(img = image,\n",
    "                text = text,\n",
    "                org = bottomLeftCornerOfText,\n",
    "                fontFace = cv2.FONT_HERSHEY_SIMPLEX,\n",
    "                fontScale = 1.5,\n",
    "                color = (255, 255, 255),\n",
    "                thickness = 2)\n",
    "\n",
    "def printInfos(image, curverad, vehicle_position):\n",
    "    radius_of_curvature_text = \"Radius of Curvature = {:.2f} km\".format(curverad/1000)\n",
    "    putText(image, radius_of_curvature_text, (50, 50))\n",
    "    \n",
    "    vehicle_position_text = \"Vehicle is {:.0f} cm {} of center\".format(\n",
    "        abs(vehicle_position*100),\n",
    "        'right' if vehicle_position>0 else 'left')\n",
    "    putText(image, vehicle_position_text, (50, 100))"
   ]
  },
  {
   "cell_type": "markdown",
   "metadata": {},
   "source": [
    "## Run Pipeline"
   ]
  },
  {
   "cell_type": "code",
   "execution_count": null,
   "metadata": {
    "scrolled": false
   },
   "outputs": [],
   "source": [
    "from numpy.linalg import inv\n",
    "from enum import Enum\n",
    "\n",
    "class Image(Enum):\n",
    "    INPUT = 'INPUT'\n",
    "    UNDISTORTED = 'UNDISTORTED'\n",
    "    COLOR_BINARY = 'COLOR_BINARY'\n",
    "    COMBINED_BINARY = 'COMBINED_BINARY'\n",
    "    LANE_PIXELS = 'lane_pixels'\n",
    "    PERSPECTIVE_COMBINED_BINARY = 'PERSPECTIVE_COMBINED_BINARY'\n",
    "    PERSPECTIVE_UNDISTORTED = 'PERSPECTIVE_UNDISTORTED'\n",
    "    LINES_WITH_SLIDING_WINDOWS = 'LINES_WITH_SLIDING_WINDOWS'\n",
    "    LINES = 'LINES'\n",
    "    OUTPUT = 'OUTPUT'\n",
    "\n",
    "def pipeline(image):\n",
    "    results = {Image.INPUT: image}\n",
    "    calibration_data = get_calibration_data()\n",
    "    \n",
    "    image = undist = undistort(image, calibration_data)\n",
    "    results[Image.UNDISTORTED] = undist\n",
    "    \n",
    "    color_binary, image = create_binary_images(image,\n",
    "                                               s_channel_thresholds = (170, 255),\n",
    "                                               x_derivative_thresholds = (60, 100))\n",
    "    results[Image.COLOR_BINARY] = color_binary\n",
    "    results[Image.COMBINED_BINARY] = image\n",
    "    \n",
    "    image = warped = warpPerspective(image)\n",
    "    results[Image.PERSPECTIVE_COMBINED_BINARY] = warped\n",
    "    results[Image.PERSPECTIVE_UNDISTORTED] = warpPerspective(undist)\n",
    "    \n",
    "    lane_pixels = find_lane_pixels(warped)\n",
    "    results[Image.LANE_PIXELS] = lane_pixels\n",
    "    \n",
    "    image, out_img = project_lane_area_onto_undistorted_image(warped,\n",
    "                                                              undist,\n",
    "                                                              inv(getPerspectiveTransform()),\n",
    "                                                              lane_pixels)\n",
    "    results[Image.LINES_WITH_SLIDING_WINDOWS] = out_img\n",
    "    results[Image.LINES] = np.copy(image)\n",
    "    \n",
    "    printInfos(image,\n",
    "               curverad = get_radius_of_curvature(warped, lane_pixels),\n",
    "               vehicle_position = get_vehicle_position(lane_pixels, warped, create_default_pix2Meter()))\n",
    "    results[Image.OUTPUT] = image\n",
    "    return results"
   ]
  },
  {
   "cell_type": "code",
   "execution_count": null,
   "metadata": {
    "scrolled": false
   },
   "outputs": [],
   "source": [
    "import unittest\n",
    "import numpy as np\n",
    "\n",
    "class SanityCheckTestCase(unittest.TestCase):\n",
    "    \n",
    "    def __init__(self, *args, **kwargs):\n",
    "        super(SanityCheckTestCase, self).__init__(*args, **kwargs)\n",
    "        self.images = [#'test_images/straight_lines1.jpg',\n",
    "                       #'test_images/straight_lines2.jpg',\n",
    "                       'test_images/test1.jpg',\n",
    "                       #'test_images/test2.jpg',\n",
    "                       #'test_images/test3.jpg',\n",
    "                       #'test_images/test4.jpg',\n",
    "                       #'test_images/test5.jpg',\n",
    "                       #'test_images/test6.jpg',\n",
    "                       #'test_images/tree_with_shadow.jpg'\n",
    "        ]\n",
    "\n",
    "    def get_lane_widths(self, results):\n",
    "        left_line, right_line, y = polyfit_left_line_right_line(lane_pixels = results[Image.LANE_PIXELS],\n",
    "                                                                height = get_height(results[Image.PERSPECTIVE_COMBINED_BINARY]),\n",
    "                                                                pix2Meter = create_default_pix2Meter())\n",
    "        lane_widths = right_line(y) - left_line(y)\n",
    "        return y, lane_widths\n",
    "\n",
    "        \n",
    "    def test_lane_width_is_3_point_7(self):\n",
    "        for image in self.images:\n",
    "            with self.subTest(image = image):\n",
    "                self.__test_lane_width_is_3_point_7(image)\n",
    "\n",
    "    def __test_lane_width_is_3_point_7(self, image):\n",
    "        # GIVEN\n",
    "        image = mpimg.imread(image)\n",
    "\n",
    "        # WHEN\n",
    "        results = pipeline(image)\n",
    "\n",
    "        # THEN\n",
    "        lane_widths = self.get_lane_widths(results)[1]\n",
    "        np.testing.assert_almost_equal(actual = lane_widths,\n",
    "                                       desired = [3.7] * len(lane_widths),\n",
    "                                       decimal = 2)\n",
    "        \n",
    "    def test_lane_has_constant_width(self):\n",
    "        for image in self.images:\n",
    "            with self.subTest(image = image):\n",
    "                self.__test_lane_has_constant_width(image)\n",
    "\n",
    "    def __test_lane_has_constant_width(self, image):\n",
    "        # GIVEN\n",
    "        image = mpimg.imread(image)\n",
    "        \n",
    "        # WHEN\n",
    "        results = pipeline(image)\n",
    "        \n",
    "        # THEN\n",
    "        lane_widths = self.get_lane_widths(results)[1]\n",
    "        # TODO: or test var(lane_widths) almost zero?\n",
    "        np.testing.assert_almost_equal(actual = lane_widths,\n",
    "                                       desired = [lane_widths[0]] * len(lane_widths),\n",
    "                                       decimal = 2)\n",
    "\n",
    "\n",
    "suite = unittest.TestLoader().loadTestsFromTestCase(SanityCheckTestCase)\n",
    "runner = unittest.TextTestRunner(verbosity = 2)\n",
    "runner.run(suite)"
   ]
  },
  {
   "cell_type": "code",
   "execution_count": null,
   "metadata": {
    "scrolled": false
   },
   "outputs": [],
   "source": [
    "def run_pipeline_draw_save(input_image, ouput_image_pattern):\n",
    "    image = mpimg.imread(input_image)\n",
    "    results = pipeline(image)\n",
    "    for image in [image for image in results if image != Image.LANE_PIXELS]:\n",
    "        plt.figure(figsize = (10, 10))\n",
    "        plt.imshow(results[image], cmap = 'gray')\n",
    "        savefig(ouput_image_pattern.format(image))"
   ]
  },
  {
   "cell_type": "code",
   "execution_count": null,
   "metadata": {
    "scrolled": false
   },
   "outputs": [],
   "source": [
    "run_pipeline_draw_save(input_image = 'test_images/test1.jpg',\n",
    "                       ouput_image_pattern = 'output_images/test1_{}.png')"
   ]
  },
  {
   "cell_type": "code",
   "execution_count": null,
   "metadata": {
    "scrolled": false
   },
   "outputs": [],
   "source": [
    "run_pipeline_draw_save(input_image = 'test_images/test2.jpg',\n",
    "                       ouput_image_pattern = 'output_images/test2_{}.png')"
   ]
  },
  {
   "cell_type": "code",
   "execution_count": null,
   "metadata": {
    "scrolled": false
   },
   "outputs": [],
   "source": [
    "run_pipeline_draw_save(input_image = 'test_images/tree_with_shadow.jpg',\n",
    "                       ouput_image_pattern = 'output_images/tree_with_shadow_{}.png')"
   ]
  },
  {
   "cell_type": "code",
   "execution_count": null,
   "metadata": {
    "scrolled": false
   },
   "outputs": [],
   "source": [
    "def run_pipeline_and_draw(image):\n",
    "    image = mpimg.imread(image)\n",
    "    # image = cv2.imread('test_images/straight_lines2.jpg')\n",
    "    f, (ax1, ax2) = plt.subplots(1, 2, figsize = (24, 9))\n",
    "    result = pipeline(image)[Image.OUTPUT]\n",
    "\n",
    "    f.tight_layout()\n",
    "\n",
    "    ax1.imshow(image)\n",
    "    ax1.set_title('image -> pipeline', fontsize = 50)\n",
    "\n",
    "    ax2.imshow(result, cmap = 'gray')\n",
    "    ax2.set_title('pipeline -> image', fontsize = 50)\n",
    "\n",
    "    plt.subplots_adjust(left = 0., right = 1, top = 0.9, bottom = 0.)"
   ]
  },
  {
   "cell_type": "code",
   "execution_count": null,
   "metadata": {
    "scrolled": false
   },
   "outputs": [],
   "source": [
    "run_pipeline_and_draw('test_images/straight_lines1.jpg')\n",
    "run_pipeline_and_draw('test_images/straight_lines2.jpg')\n",
    "run_pipeline_and_draw('test_images/test1.jpg')\n",
    "run_pipeline_and_draw('test_images/test2.jpg')\n",
    "run_pipeline_and_draw('test_images/test3.jpg')\n",
    "run_pipeline_and_draw('test_images/test4.jpg')\n",
    "run_pipeline_and_draw('test_images/test5.jpg')\n",
    "run_pipeline_and_draw('test_images/test6.jpg')\n",
    "run_pipeline_and_draw('test_images/tree_with_shadow.jpg')"
   ]
  },
  {
   "cell_type": "markdown",
   "metadata": {},
   "source": [
    "## Video"
   ]
  },
  {
   "cell_type": "code",
   "execution_count": null,
   "metadata": {
    "scrolled": false
   },
   "outputs": [],
   "source": [
    "from moviepy.editor import VideoFileClip\n",
    "from IPython.display import HTML"
   ]
  },
  {
   "cell_type": "code",
   "execution_count": null,
   "metadata": {
    "scrolled": false
   },
   "outputs": [],
   "source": [
    "def process_image(image):\n",
    "    return pipeline(image)[Image.OUTPUT]"
   ]
  },
  {
   "cell_type": "code",
   "execution_count": null,
   "metadata": {
    "scrolled": false
   },
   "outputs": [],
   "source": [
    "def process_video(input_video, output_video):\n",
    "    clip = VideoFileClip(input_video)\n",
    "    clip_processed = clip.fl_image(process_image)\n",
    "    %time clip_processed.write_videofile(output_video, audio=False)"
   ]
  },
  {
   "cell_type": "code",
   "execution_count": null,
   "metadata": {
    "scrolled": false
   },
   "outputs": [],
   "source": [
    "def embed_video(video):\n",
    "    return HTML(\"\"\"\n",
    "    <video width=\"960\" height=\"540\" controls>\n",
    "      <source src=\"{0}\">\n",
    "    </video>\n",
    "    \"\"\".format(video))"
   ]
  },
  {
   "cell_type": "code",
   "execution_count": null,
   "metadata": {
    "scrolled": false
   },
   "outputs": [],
   "source": [
    "output_video = 'test_videos_output/project_video.mp4'\n",
    "#process_video(input_video = 'test_videos/project_video.mp4', output_video = output_video)\n",
    "embed_video(output_video)"
   ]
  },
  {
   "cell_type": "code",
   "execution_count": null,
   "metadata": {
    "scrolled": true
   },
   "outputs": [],
   "source": [
    "output_video = 'test_videos_output/challenge_video.mp4'\n",
    "#process_video(input_video = 'test_videos/challenge_video.mp4', output_video = output_video)\n",
    "#embed_video(output_video)"
   ]
  },
  {
   "cell_type": "code",
   "execution_count": null,
   "metadata": {
    "scrolled": true
   },
   "outputs": [],
   "source": [
    "output_video = 'test_videos_output/harder_challenge_video.mp4'\n",
    "#process_video(input_video = 'test_videos/harder_challenge_video.mp4', output_video = output_video)\n",
    "#embed_video(output_video)"
   ]
  }
 ],
 "metadata": {
  "anaconda-cloud": {},
  "kernelspec": {
   "display_name": "Python 3",
   "language": "python",
   "name": "python3"
  },
  "language_info": {
   "codemirror_mode": {
    "name": "ipython",
    "version": 3
   },
   "file_extension": ".py",
   "mimetype": "text/x-python",
   "name": "python",
   "nbconvert_exporter": "python",
   "pygments_lexer": "ipython3",
   "version": "3.6.5"
  }
 },
 "nbformat": 4,
 "nbformat_minor": 1
}
